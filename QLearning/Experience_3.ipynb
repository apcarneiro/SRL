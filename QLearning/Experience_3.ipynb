{
 "cells": [
  {
   "cell_type": "code",
   "execution_count": null,
   "metadata": {},
   "outputs": [],
   "source": [
    "import gymnasium as gym\n",
    "import numpy as np\n",
    "from tqdm import tqdm\n",
    "import pandas as pd\n",
    "\n",
    "from Agent3 import *\n",
    "\n",
    "learning_rate = 0.7\n",
    "gamma = 0.95         \n",
    "max_steps = 200 "
   ]
  },
  {
   "cell_type": "code",
   "execution_count": null,
   "metadata": {},
   "outputs": [],
   "source": [
    "\n",
    "def train(n_training_episodes, min_epsilon, max_epsilon, decay_rate, agent:Agent3, wins:list):\n",
    "    print ('Training.... ')\n",
    "    agent.setTraningMode(True,learning_rate,gamma)\n",
    "\n",
    "    for episode in tqdm(range(n_training_episodes)):\n",
    "        epsilon = min_epsilon + (max_epsilon - min_epsilon)*np.exp(-decay_rate*episode)\n",
    "        agent.reset()\n",
    "\n",
    "        for step in range(max_steps):\n",
    "            rw=agent.step(epsilon)\n",
    "            if agent.done():\n",
    "                if rw == 1:\n",
    "                    wins.append([episode,step])\n",
    "                break\n"
   ]
  },
  {
   "cell_type": "code",
   "execution_count": null,
   "metadata": {},
   "outputs": [],
   "source": [
    "def evaluate(max_steps, n_eval_episodes, agent:Agent3, wins:list):\n",
    "    print ('Evaluate.... ')\n",
    "    agent.setTraningMode(False)\n",
    "\n",
    "    episode_rewards = []\n",
    "\n",
    "    for episode in tqdm(range(n_eval_episodes)):\n",
    "        agent.reset()\n",
    "\n",
    "        for step in range(max_steps):\n",
    "            rw=agent.step()\n",
    "\n",
    "            if agent.done():\n",
    "                if rw == 1:\n",
    "                    wins.append([episode,step])\n",
    "                break\n",
    "\n",
    "    episode_rewards.append(agent.totalReward())\n",
    "\n",
    "    mean_reward = np.mean(episode_rewards)\n",
    "    std_reward = np.std(episode_rewards)\n",
    "\n",
    "    print(f\"Mean_reward={mean_reward:.2f} +/- {std_reward:.2f}\")"
   ]
  },
  {
   "cell_type": "code",
   "execution_count": null,
   "metadata": {},
   "outputs": [],
   "source": [
    "wins = []\n",
    "\n",
    "env = gym.make(\"FrozenLake-v1\", map_name=\"4x4\")\n",
    "\n",
    "agent = Agent3(env)\n",
    "\n",
    "# Exploration parameters\n",
    "max_epsilon = 1.0           \n",
    "min_epsilon = 0.05           \n",
    "decay_rate = 0.0005 \n",
    "\n",
    "\n",
    "# Training parameters\n",
    "n_training_episodes = 1000000\n",
    "      "
   ]
  },
  {
   "cell_type": "code",
   "execution_count": null,
   "metadata": {},
   "outputs": [],
   "source": [
    "train(n_training_episodes, min_epsilon, max_epsilon, decay_rate, agent, wins)"
   ]
  },
  {
   "cell_type": "code",
   "execution_count": null,
   "metadata": {},
   "outputs": [],
   "source": [
    "agent.getQTable()"
   ]
  },
  {
   "cell_type": "code",
   "execution_count": null,
   "metadata": {},
   "outputs": [],
   "source": [
    "agent.getSomaticMemory()"
   ]
  },
  {
   "cell_type": "code",
   "execution_count": null,
   "metadata": {},
   "outputs": [],
   "source": [
    "qtable = agent.getQTable()\n",
    "\n",
    "np.save(\"qtable_3\",qtable)"
   ]
  },
  {
   "cell_type": "code",
   "execution_count": null,
   "metadata": {},
   "outputs": [],
   "source": [
    "np.load('../QLearning/qtable_3.npy')"
   ]
  },
  {
   "cell_type": "code",
   "execution_count": null,
   "metadata": {},
   "outputs": [],
   "source": [
    "npWins = pd.DataFrame(np.array(wins))\n",
    "\n",
    "win_count, _ = npWins.shape\n",
    "mediaPassos = np.mean(npWins, axis=0)[1]\n",
    "\n",
    "print(f\"{win_count} on {n_training_episodes} trys -> {(float(win_count*100)/n_training_episodes) :.2f}%\")\n",
    "print(f\"media de passos pra vitoria {mediaPassos}\")"
   ]
  },
  {
   "cell_type": "code",
   "execution_count": null,
   "metadata": {},
   "outputs": [],
   "source": [
    "npWins.describe()"
   ]
  },
  {
   "cell_type": "code",
   "execution_count": null,
   "metadata": {},
   "outputs": [],
   "source": [
    " # Evaluation parameters\n",
    "n_eval_episodes = 100      \n",
    "eval_seed = []\n",
    "max_steps = 200 \n",
    "\n",
    "wins = []\n",
    "\n",
    "evaluate(max_steps,n_eval_episodes,agent, wins)"
   ]
  },
  {
   "cell_type": "code",
   "execution_count": null,
   "metadata": {},
   "outputs": [],
   "source": [
    "npWins = pd.DataFrame(np.array(wins))\n",
    "\n",
    "win_count, _ = npWins.shape\n",
    "mediaPassos = np.mean(npWins, axis=0)[1]\n",
    "\n",
    "print(f\"{win_count} on {n_eval_episodes} trys -> {(float(win_count*100)/n_eval_episodes) :.2f}%\")\n",
    "print(f\"media de passos pra vitoria {mediaPassos}\")"
   ]
  }
 ],
 "metadata": {
  "kernelspec": {
   "display_name": "gymnasium",
   "language": "python",
   "name": "python3"
  },
  "language_info": {
   "codemirror_mode": {
    "name": "ipython",
    "version": 3
   },
   "file_extension": ".py",
   "mimetype": "text/x-python",
   "name": "python",
   "nbconvert_exporter": "python",
   "pygments_lexer": "ipython3",
   "version": "3.12.3"
  }
 },
 "nbformat": 4,
 "nbformat_minor": 2
}
