{
 "cells": [
  {
   "cell_type": "code",
   "execution_count": null,
   "id": "f65d075a-4f40-4143-ac35-3c4501938d0e",
   "metadata": {},
   "outputs": [],
   "source": [
    "import gymnasium as gym\n",
    "import numpy as np\n",
    "from tqdm import tqdm\n",
    "import pandas as pd\n",
    "\n",
    "from Agent2 import *\n",
    "\n",
    "learning_rate = 0.7\n",
    "gamma = 0.95         \n",
    "max_steps = 200 "
   ]
  },
  {
   "cell_type": "code",
   "execution_count": null,
   "id": "fd1ecee1-fb1c-4f5a-9a0a-38ae0914e67e",
   "metadata": {},
   "outputs": [],
   "source": [
    "\n",
    "def train(n_training_episodes, min_epsilon, max_epsilon, decay_rate, agent:Agent2, wins:list):\n",
    "    print ('Training.... ')\n",
    "    agent.setTraningMode(True,learning_rate,gamma)\n",
    "\n",
    "    for episode in tqdm(range(n_training_episodes)):\n",
    "        epsilon = min_epsilon + (max_epsilon - min_epsilon)*np.exp(-decay_rate*episode)\n",
    "        agent.reset()\n",
    "\n",
    "        for step in range(max_steps):\n",
    "            rw=agent.step(epsilon)\n",
    "            if agent.done():\n",
    "                if rw == 1:\n",
    "                    wins.append([episode,step])\n",
    "                break\n"
   ]
  },
  {
   "cell_type": "code",
   "execution_count": null,
   "id": "6ed50f7e",
   "metadata": {},
   "outputs": [],
   "source": [
    "\n",
    "def evaluate(max_steps, n_eval_episodes, agent:Agent2, wins:list):\n",
    "    print ('Evaluate.... ')\n",
    "    agent.setTraningMode(False)\n",
    "\n",
    "    episode_rewards = []\n",
    "\n",
    "    for episode in tqdm(range(n_eval_episodes)):\n",
    "        agent.reset()\n",
    "\n",
    "        for step in range(max_steps):\n",
    "            rw=agent.step()\n",
    "\n",
    "            if agent.done():\n",
    "                if rw == 1:\n",
    "                    wins.append([episode,step])\n",
    "                break\n",
    "\n",
    "    episode_rewards.append(agent.totalReward())\n",
    "\n",
    "    mean_reward = np.mean(episode_rewards)\n",
    "    std_reward = np.std(episode_rewards)\n",
    "\n",
    "    print(f\"Mean_reward={mean_reward:.2f} +/- {std_reward:.2f}\")"
   ]
  },
  {
   "cell_type": "code",
   "execution_count": null,
   "id": "ef0942ae-341d-4a4f-8ba3-436517cf8737",
   "metadata": {},
   "outputs": [],
   "source": [
    "\n",
    "wins = []\n",
    "\n",
    "env = gym.make(\"FrozenLake-v1\", map_name=\"4x4\")\n",
    "\n",
    "agent = Agent2(env)\n",
    "\n",
    "# Exploration parameters\n",
    "max_epsilon = 1.0           \n",
    "min_epsilon = 0.05           \n",
    "decay_rate = 0.0005 \n",
    "\n",
    "\n",
    "# Training parameters\n",
    "n_training_episodes = 1000000\n",
    "      "
   ]
  },
  {
   "cell_type": "code",
   "execution_count": null,
   "id": "4f3d1765-336f-4c6a-9d35-0688ac3fb22c",
   "metadata": {},
   "outputs": [],
   "source": [
    "train(n_training_episodes, min_epsilon, max_epsilon, decay_rate, agent, wins)"
   ]
  },
  {
   "cell_type": "code",
   "execution_count": null,
   "id": "7e17fead",
   "metadata": {},
   "outputs": [],
   "source": [
    "qtable = agent.getQTable()\n",
    "\n",
    "np.save(\"qtable_2\",qtable)"
   ]
  },
  {
   "cell_type": "code",
   "execution_count": null,
   "id": "82095e17",
   "metadata": {},
   "outputs": [],
   "source": [
    "\n",
    "npWins = pd.DataFrame(np.array(wins))\n",
    "\n",
    "win_count, _ = npWins.shape\n",
    "mediaPassos = np.mean(npWins, axis=0)[1]\n",
    "\n",
    "print(f\"{win_count} on {n_training_episodes} trys -> {(float(win_count*100)/n_training_episodes) :.2f}%\")\n",
    "print(f\"media de passos pra vitoria {mediaPassos}\")"
   ]
  },
  {
   "cell_type": "code",
   "execution_count": null,
   "id": "ecdd2543",
   "metadata": {},
   "outputs": [],
   "source": [
    "npWins.describe()"
   ]
  },
  {
   "cell_type": "code",
   "execution_count": null,
   "id": "1a498570",
   "metadata": {},
   "outputs": [],
   "source": [
    " # Evaluation parameters\n",
    "n_eval_episodes = 100      \n",
    "eval_seed = []\n",
    "max_steps = 200 \n",
    "\n",
    "wins = []\n",
    "\n",
    "evaluate(max_steps,n_eval_episodes,agent, wins)"
   ]
  },
  {
   "cell_type": "code",
   "execution_count": null,
   "id": "43a4f339",
   "metadata": {},
   "outputs": [],
   "source": [
    "npWins = pd.DataFrame(np.array(wins))\n",
    "\n",
    "win_count, _ = npWins.shape\n",
    "mediaPassos = np.mean(npWins, axis=0)[1]\n",
    "\n",
    "print(f\"{win_count} on {n_eval_episodes} trys -> {(float(win_count*100)/n_eval_episodes) :.2f}%\")\n",
    "print(f\"media de passos pra vitoria {mediaPassos}\")"
   ]
  }
 ],
 "metadata": {
  "kernelspec": {
   "display_name": "Python 3 (ipykernel)",
   "language": "python",
   "name": "python3"
  },
  "language_info": {
   "codemirror_mode": {
    "name": "ipython",
    "version": 3
   },
   "file_extension": ".py",
   "mimetype": "text/x-python",
   "name": "python",
   "nbconvert_exporter": "python",
   "pygments_lexer": "ipython3",
   "version": "3.12.3"
  }
 },
 "nbformat": 4,
 "nbformat_minor": 5
}
